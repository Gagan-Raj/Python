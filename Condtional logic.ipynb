{
 "cells": [
  {
   "cell_type": "markdown",
   "id": "c6ec5c42",
   "metadata": {},
   "source": [
    "# Assessment - 3 Gradable\n",
    "\n",
    "- Each question carries 3 or 4 marks\n",
    "- Marks will be assigned in terms of:\n",
    "    \n",
    "    **1. Expected output**\n",
    "    \n",
    "    **2. Quality and Explainability of code**\n",
    "\n",
    "    ***Go back through the script and type a comment above each line explaining in English what it does.***\n",
    "\n",
    "    **3. Copied code, if found, will result in 0 marks for that question. To avoid this make as much comments in the code to explain the approach**"
   ]
  },
  {
   "cell_type": "markdown",
   "id": "8698053e",
   "metadata": {},
   "source": [
    "### 1.\n",
    "\n",
    "Go through the string below and if the length of a word is even print \"even!\"\n",
    "\n",
    "string = 'I know how to print every word in this sentence that has an even number of letters'"
   ]
  },
  {
   "cell_type": "code",
   "execution_count": 92,
   "id": "4dec28a9",
   "metadata": {},
   "outputs": [
    {
     "name": "stdout",
     "output_type": "stream",
     "text": [
      "['I', 'know', 'how', 'to', 'print', 'every', 'word', 'in', 'this', 'sentence', 'that', 'has', 'an', 'even', 'number', 'of', 'letters']\n",
      "Length of the word is not even\n"
     ]
    }
   ],
   "source": [
    "#print 'even!', if even length of words\n",
    "\n",
    "#statement\n",
    "string = 'I know how to print every word in this sentence that has an even number of letters'  \n",
    "\n",
    "#splitting the string based on space\n",
    "\n",
    "string_split = string.split()\n",
    "\n",
    "#printing the statement for reference\n",
    "\n",
    "print(string_split)\n",
    "\n",
    "#using if else, if length of string after splitting is equally divisible by 2, then it is even numbers.\n",
    "\n",
    "if len(string_split)%2 == 0 :\n",
    "    print('even!')\n",
    "\n",
    "#else it is not even words\n",
    "\n",
    "else :\n",
    "    print('Length of the word is not even')"
   ]
  },
  {
   "cell_type": "markdown",
   "id": "8569bc4e",
   "metadata": {},
   "source": [
    "### 2. \n",
    "\n",
    "Create a function ``lets_find_88`` Given a list of ints, return True if the array contains a 8 next to a 8 somewhere.\n",
    "- lets_find_88([1, 8, 8]) → True\n",
    "- lets_find_88([1, 8, 1, 8]) → False\n",
    "- lets_find_88([8, 1, 8]) → False"
   ]
  },
  {
   "cell_type": "code",
   "execution_count": 66,
   "id": "9ccfca15",
   "metadata": {},
   "outputs": [],
   "source": [
    "#creating a function\n",
    "\n",
    "def lets_find_88(x):\n",
    "    \n",
    "    #using for loop\n",
    "    for i in range(0,len(x)):\n",
    "        \n",
    "        #using the index and equalling to 8\n",
    "        if x[i:i+2] == [8,8]:\n",
    "            \n",
    "            #returning the statement True, if above conditions are satisfied\n",
    "            return True\n",
    "        \n",
    "    #else False\n",
    "    return False\n",
    "\n",
    "    "
   ]
  },
  {
   "cell_type": "code",
   "execution_count": 94,
   "id": "66ac3271",
   "metadata": {},
   "outputs": [
    {
     "data": {
      "text/plain": [
       "True"
      ]
     },
     "execution_count": 94,
     "metadata": {},
     "output_type": "execute_result"
    }
   ],
   "source": [
    "lets_find_88([1,3,8,1,8,8])"
   ]
  },
  {
   "cell_type": "markdown",
   "id": "40759409",
   "metadata": {},
   "source": [
    "### 3.\n",
    "\n",
    " Calculate and display the sum of all the numbers divisible by 7 between 18 and 534.\n",
    " \n",
    " Hint: One way to do this is to loop over a 'range' using 'for' loop and use an 'if' statement inside it."
   ]
  },
  {
   "cell_type": "code",
   "execution_count": 44,
   "id": "f7409469",
   "metadata": {},
   "outputs": [
    {
     "name": "stdout",
     "output_type": "stream",
     "text": [
      "Sum of all numbers : 20461\n"
     ]
    }
   ],
   "source": [
    "#having a variable which has range of numbers to be displayed\n",
    "x = range(18,535)\n",
    "\n",
    "#defining an empty variable\n",
    "sum1 = 0\n",
    "\n",
    "#using a for loop, to go through every element in the range\n",
    "for i in x :\n",
    "    \n",
    "    #using if- else condition, to apply the logic\n",
    "    if i%7 == 0:\n",
    "        \n",
    "        #increasing the value of sum1, by adding with the element which is equally divided by 7 and the prvious sum1\n",
    "        sum1 = sum1 + i\n",
    "    \n",
    "    \n",
    "    else :\n",
    "        \n",
    "        #if the element is not divisible by 7, then the whole sum needs to remain same\n",
    "        sum1 = sum1 + 0\n",
    "           \n",
    "\n",
    "#printing the sum, using format function\n",
    "print('Sum of all numbers : {}'.format(sum1))\n",
    "        \n",
    "        "
   ]
  },
  {
   "cell_type": "markdown",
   "id": "0dd3847a",
   "metadata": {},
   "source": [
    "### 4. \n",
    "\n",
    "Create a list containing the following 3 elements:\n",
    "\n",
    "- Subject person had taken\n",
    "- Marks Achieved\n",
    "- a boolean value showing previous programming experience\n",
    "\n",
    "and Complete the following 'print' and 'if' statements by accessing the appropriate elements from my_list."
   ]
  },
  {
   "cell_type": "code",
   "execution_count": 88,
   "id": "5c87efcb",
   "metadata": {},
   "outputs": [
    {
     "name": "stdout",
     "output_type": "stream",
     "text": [
      "True\n"
     ]
    }
   ],
   "source": [
    "#creating a list and adding the items as mentioned above\n",
    "my_list = ['Maths', 93, True]\n",
    "\n",
    "#using if-else condition\n",
    "if my_list[1] == 93:\n",
    "    \n",
    "    print(my_list[2])\n",
    "    \n",
    "else :\n",
    "    print(False)\n",
    "\n"
   ]
  },
  {
   "cell_type": "markdown",
   "id": "a54510f0",
   "metadata": {},
   "source": [
    "### 5.\n",
    "\n",
    "Write a function to return True if the first and last number of a given list is same. If numbers are different then return False.\n",
    "\n",
    "- [11, 13, 17, 19, 11] --> True\n",
    "- [24, 36, 12, 31, 42] --> False"
   ]
  },
  {
   "cell_type": "code",
   "execution_count": 1,
   "id": "5d53ba1f",
   "metadata": {},
   "outputs": [
    {
     "name": "stdout",
     "output_type": "stream",
     "text": [
      "Enter the Items here : 24 56 87 92 24\n",
      "['24', '56', '87', '92', '24']\n",
      "True\n"
     ]
    }
   ],
   "source": [
    "#give an input of list of items here\n",
    "x = (input('Enter the Items here : '))\n",
    "\n",
    "#use the split function, to split the items based on space and add them into a list\n",
    "x = x.split()\n",
    "\n",
    "print(x)\n",
    "\n",
    "#using if-else condition, satisfying the logic below, print true\n",
    "if x[0] == x[-1] :\n",
    "    print(True)\n",
    "\n",
    "#else, print as False\n",
    "else :\n",
    "    print(False)\n"
   ]
  },
  {
   "cell_type": "code",
   "execution_count": null,
   "id": "4ff99fdf",
   "metadata": {},
   "outputs": [],
   "source": []
  }
 ],
 "metadata": {
  "kernelspec": {
   "display_name": "Python 3 (ipykernel)",
   "language": "python",
   "name": "python3"
  },
  "language_info": {
   "codemirror_mode": {
    "name": "ipython",
    "version": 3
   },
   "file_extension": ".py",
   "mimetype": "text/x-python",
   "name": "python",
   "nbconvert_exporter": "python",
   "pygments_lexer": "ipython3",
   "version": "3.9.13"
  }
 },
 "nbformat": 4,
 "nbformat_minor": 5
}
