{
 "cells": [
  {
   "cell_type": "markdown",
   "id": "d10232fe",
   "metadata": {},
   "source": [
    "# Project 1 : Creating Databases and Operations\n",
    "Create a table containing assignment scores of 6 students in class for Python and Javascript and write a query that calculates the total score of all assignments for each student and recognizes the topper student from the table using the scores. \n"
   ]
  },
  {
   "cell_type": "code",
   "execution_count": null,
   "id": "ac9eabc8",
   "metadata": {},
   "outputs": [],
   "source": [
    "\n"
   ]
  },
  {
   "cell_type": "code",
   "execution_count": 5,
   "id": "5d5dcb40",
   "metadata": {},
   "outputs": [
    {
     "name": "stdout",
     "output_type": "stream",
     "text": [
      "2 rows inserted.\n"
     ]
    }
   ],
   "source": [
    "import mysql.connector\n",
    "\n",
    "# Establish database connection\n",
    "connection = mysql.connector.connect(host=\"localhost\", user=\"root\", password=\"Mysql@1234\", database=\"Assignment\")\n",
    "\n",
    "# Create a cursor object\n",
    "cursor = connection.cursor()\n",
    "\n",
    "# Define the SQL query\n",
    "query = \"INSERT INTO scores (student_id, Name, Python_score, Javascript_score) VALUES (%s, %s, %s, %s)\"\n",
    "\n",
    "# Define the values to be inserted\n",
    "values = [\n",
    "    (7, 'Jalesh', 38, 89),\n",
    "    (8, 'Somesh', 54, 85)\n",
    "    \n",
    "]\n",
    "\n",
    "# Execute the query and insert the values\n",
    "cursor.executemany(query, values)\n",
    "\n",
    "# Commit the changes to the database\n",
    "connection.commit()\n",
    "\n",
    "# Print the number of rows inserted\n",
    "print(f\"{cursor.rowcount} rows inserted.\")\n",
    "\n",
    "\n",
    "# Close the cursor and database connection\n",
    "cursor.close()\n",
    "connection.close()\n"
   ]
  },
  {
   "cell_type": "code",
   "execution_count": 7,
   "id": "ddea045e",
   "metadata": {},
   "outputs": [
    {
     "name": "stdout",
     "output_type": "stream",
     "text": [
      "(1, 'Ramesh', 83, 99)\n",
      "(2, 'Suresh', 45, 95)\n",
      "(3, 'Mahesh', 70, 82)\n",
      "(4, 'Naresh', 79, 91)\n",
      "(5, 'Ganesh', 80, 87)\n",
      "(6, 'Rupesh', 91, 69)\n",
      "(7, 'Jalesh', 38, 89)\n",
      "(8, 'Somesh', 54, 85)\n"
     ]
    }
   ],
   "source": [
    "\n",
    "connection = mysql.connector.connect(host=\"localhost\", user=\"root\", password=\"Mysql@1234\", database=\"Assignment\")\n",
    "\n",
    "cursor = connection.cursor()\n",
    "\n",
    "# Execute a SELECT statement to fetch all rows from the table\n",
    "query = \"SELECT * FROM scores\"\n",
    "cursor.execute(query)\n",
    "\n",
    "# Fetch all the rows\n",
    "rows = cursor.fetchall()\n",
    "\n",
    "# Print the rows\n",
    "for row in rows:\n",
    "    print(row)\n",
    "\n",
    "# Close the cursor and database connection\n",
    "cursor.close()\n",
    "connection.close()\n"
   ]
  },
  {
   "cell_type": "code",
   "execution_count": 8,
   "id": "cc086368",
   "metadata": {},
   "outputs": [
    {
     "name": "stdout",
     "output_type": "stream",
     "text": [
      "Ramesh is the topper with a total score of 182\n"
     ]
    }
   ],
   "source": [
    "connection = mysql.connector.connect(host=\"localhost\", user=\"root\", password=\"Mysql@1234\", database=\"Assignment\")\n",
    "cursor = connection.cursor()\n",
    "cursor.execute(\"\"\"\n",
    "    SELECT Name, (Python_score + Javascript_score) AS Total_score\n",
    "    FROM scores\n",
    "    ORDER BY Total_score DESC\n",
    "    LIMIT 1\n",
    "\"\"\")\n",
    "\n",
    "# Fetch the results\n",
    "result = cursor.fetchone()\n",
    "\n",
    "# Print the result\n",
    "print(f\"{result[0]} is the topper with a total score of {result[1]}\")\n",
    "\n",
    "cursor.close()\n",
    "connection.close()\n"
   ]
  },
  {
   "cell_type": "markdown",
   "id": "bd272744",
   "metadata": {},
   "source": [
    "# Project 2 : Handling Databases and CRUD operations using Python\n",
    "Create a table in the employee database and insert the employee related data of 6 employees to the employee table. Get all the employee related data and update an employee record into the table. Delete the last employee record of the table.\n"
   ]
  },
  {
   "cell_type": "code",
   "execution_count": 9,
   "id": "b7a1e89c",
   "metadata": {},
   "outputs": [],
   "source": [
    "import mysql.connector\n",
    "\n",
    "# Establish database connection\n",
    "connection = mysql.connector.connect(host=\"localhost\", user=\"root\", password=\"Mysql@1234\", database=\"employeedb\")\n",
    "\n",
    "\n",
    "# Create a cursor object\n",
    "cursor = connection.cursor()\n",
    "\n",
    "# Create the employee table\n",
    "cursor.execute(\"CREATE TABLE employee (id INT PRIMARY KEY AUTO_INCREMENT, name VARCHAR(50) NOT NULL, age INT NOT NULL, gender VARCHAR(50) NOT NULL, salary INT NOT NULL)\")\n",
    "\n",
    "#INSERT VALUES\n",
    "query = \"INSERT INTO employee (id, name, age, gender, salary ) VALUES (%s, %s, %s, %s, %s)\"\n",
    "\n",
    "values = [(1, 'Ram', 25, 'Male', 45000),\n",
    "         (2, 'Ravi', 26, 'Male', 48000),\n",
    "         (3, 'Raju', 26, 'Male', 48500),\n",
    "         (4, 'Govind', 27, 'Male', 45500),\n",
    "         (5, 'Aishwarya', 34, 'Female', 54000),\n",
    "         (6, 'Teena', 28, 'Female', 70000)\n",
    "         ]\n",
    "cursor.executemany(query, values)\n",
    "\n",
    "# Commit the changes to the database\n",
    "connection.commit()\n",
    "\n",
    "# Close the cursor and database connection\n",
    "cursor.close()\n",
    "connection.close()\n"
   ]
  },
  {
   "cell_type": "code",
   "execution_count": 10,
   "id": "a2d33e30",
   "metadata": {},
   "outputs": [
    {
     "name": "stdout",
     "output_type": "stream",
     "text": [
      "(1, 'Ram', 25, 'Male', 45000)\n",
      "(2, 'Ravi', 26, 'Male', 48000)\n",
      "(3, 'Raju', 26, 'Male', 48500)\n",
      "(4, 'Govind', 27, 'Male', 45500)\n",
      "(5, 'Aishwarya', 34, 'Female', 54000)\n",
      "(6, 'Teena', 28, 'Female', 70000)\n"
     ]
    }
   ],
   "source": [
    "\n",
    "connection = mysql.connector.connect(host=\"localhost\", user=\"root\", password=\"Mysql@1234\", database=\"employeedb\")\n",
    "\n",
    "cursor = connection.cursor()\n",
    "\n",
    "# Execute a SELECT statement to fetch all rows from the table\n",
    "query = \"SELECT * FROM employee\"\n",
    "cursor.execute(query)\n",
    "\n",
    "# Fetch all the rows\n",
    "rows = cursor.fetchall()\n",
    "\n",
    "# Print the rows\n",
    "for row in rows:\n",
    "    print(row)\n",
    "\n",
    "# Close the cursor and database connection\n",
    "cursor.close()\n",
    "connection.close()"
   ]
  },
  {
   "cell_type": "code",
   "execution_count": 2,
   "id": "34f37fc7",
   "metadata": {},
   "outputs": [],
   "source": [
    "import mysql.connector\n",
    "\n",
    "connection = mysql.connector.connect(host=\"localhost\", user=\"root\", password=\"Mysql@1234\", database=\"employeedb\")\n",
    "\n",
    "cursor = connection.cursor()\n",
    "\n",
    "#update data\n",
    "update_data = \"\"\"\n",
    "UPDATE employee\n",
    "SET name = 'Gagan', age = 28, gender = 'Male', salary = 60000\n",
    "WHERE id = 2\n",
    "\"\"\"\n",
    "cursor.execute(update_data)\n",
    "\n",
    "\n",
    "\n",
    "\n",
    "# Commit the changes to the database\n",
    "connection.commit()\n",
    "\n",
    "# Close the cursor and database connection\n",
    "cursor.close()\n",
    "connection.close()"
   ]
  },
  {
   "cell_type": "code",
   "execution_count": 7,
   "id": "a3ae6937",
   "metadata": {},
   "outputs": [],
   "source": [
    "connection = mysql.connector.connect(host=\"localhost\", user=\"root\", password=\"Mysql@1234\", database=\"employeedb\")\n",
    "\n",
    "cursor = connection.cursor()\n",
    "\n",
    "# Delete the last employee record\n",
    "delete_data = \"\"\"\n",
    "DELETE FROM employee\n",
    "WHERE id = (\n",
    "    SELECT id FROM (\n",
    "        SELECT id FROM employee\n",
    "        ORDER BY id DESC LIMIT 1\n",
    "    ) AS temp\n",
    ")\n",
    "\"\"\"\n",
    "cursor.execute(delete_data)\n",
    "\n",
    "\n",
    "# Commit the changes to the database\n",
    "connection.commit()\n",
    "\n",
    "# Close the cursor and database connection\n",
    "cursor.close()\n",
    "connection.close()"
   ]
  },
  {
   "cell_type": "code",
   "execution_count": 8,
   "id": "891c7753",
   "metadata": {},
   "outputs": [
    {
     "name": "stdout",
     "output_type": "stream",
     "text": [
      "(1, 'Ram', 25, 'Male', 45000)\n",
      "(2, 'Gagan', 28, 'Male', 60000)\n",
      "(3, 'Raju', 26, 'Male', 48500)\n",
      "(4, 'Govind', 27, 'Male', 45500)\n",
      "(5, 'Aishwarya', 34, 'Female', 54000)\n"
     ]
    }
   ],
   "source": [
    "connection = mysql.connector.connect(host=\"localhost\", user=\"root\", password=\"Mysql@1234\", database=\"employeedb\")\n",
    "\n",
    "cursor = connection.cursor()\n",
    "\n",
    "# Execute a SELECT statement to fetch all rows from the table\n",
    "query = \"SELECT * FROM employee\"\n",
    "cursor.execute(query)\n",
    "\n",
    "# Fetch all the rows\n",
    "rows = cursor.fetchall()\n",
    "\n",
    "# Print the rows\n",
    "for row in rows:\n",
    "    print(row)\n",
    "\n",
    "# Close the cursor and database connection\n",
    "cursor.close()\n",
    "connection.close()"
   ]
  },
  {
   "cell_type": "markdown",
   "id": "1eb62098",
   "metadata": {},
   "source": [
    "# Project 3 : Voice Assistant using Python\n",
    "Create a Voice Assistant Project in Python with 4 use-cases that solves your daily life problems.\n",
    "(Hint : Opening WebLinks, Taking a Screenshot, Reminder, Weather etc.)\n"
   ]
  },
  {
   "cell_type": "code",
   "execution_count": 9,
   "id": "fb0c924f",
   "metadata": {},
   "outputs": [
    {
     "data": {
      "text/plain": [
       "True"
      ]
     },
     "execution_count": 9,
     "metadata": {},
     "output_type": "execute_result"
    }
   ],
   "source": [
    "#opening weblinks\n",
    "\n",
    "import webbrowser\n",
    "\n",
    "# Use case 1: Open a specific website\n",
    "website = \"https://www.google.com\"\n",
    "webbrowser.open(website)\n",
    "\n",
    "# Use case 2: Open multiple websites\n",
    "websites = [\"https://www.google.com\", \"https://www.wikipedia.org\", \"https://www.youtube.com\"]\n",
    "for website in websites:\n",
    "    webbrowser.open(website)\n",
    "\n",
    "# Use case 3: Open a website in a new tab\n",
    "website = \"https://www.google.com\"\n",
    "webbrowser.open_new_tab(website)\n",
    "\n",
    "# Use case 4: Open a website in a new window\n",
    "website = \"https://www.google.com\"\n",
    "webbrowser.open_new(website)\n"
   ]
  },
  {
   "cell_type": "code",
   "execution_count": null,
   "id": "10aa0a29",
   "metadata": {},
   "outputs": [],
   "source": []
  }
 ],
 "metadata": {
  "kernelspec": {
   "display_name": "Python 3 (ipykernel)",
   "language": "python",
   "name": "python3"
  },
  "language_info": {
   "codemirror_mode": {
    "name": "ipython",
    "version": 3
   },
   "file_extension": ".py",
   "mimetype": "text/x-python",
   "name": "python",
   "nbconvert_exporter": "python",
   "pygments_lexer": "ipython3",
   "version": "3.9.13"
  }
 },
 "nbformat": 4,
 "nbformat_minor": 5
}
