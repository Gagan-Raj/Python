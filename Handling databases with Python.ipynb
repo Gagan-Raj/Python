{
 "cells": [
  {
   "cell_type": "code",
   "execution_count": 1,
   "id": "db85bb19",
   "metadata": {},
   "outputs": [
    {
     "name": "stdout",
     "output_type": "stream",
     "text": [
      "Requirement already satisfied: mysql-connector-python in /Applications/anaconda3/lib/python3.9/site-packages (8.0.32)\n",
      "Requirement already satisfied: protobuf<=3.20.3,>=3.11.0 in /Applications/anaconda3/lib/python3.9/site-packages (from mysql-connector-python) (3.20.3)\n"
     ]
    }
   ],
   "source": [
    "!pip install mysql-connector-python\n"
   ]
  },
  {
   "cell_type": "code",
   "execution_count": 2,
   "id": "b542d88f",
   "metadata": {},
   "outputs": [],
   "source": [
    "import mysql.connector\n",
    "\n",
    "def connect_to_database(user, password, host, database):\n",
    "    conn = mysql.connector.connect(user=user, password=password, host=host, database=database)\n",
    "    return conn\n",
    "\n",
    "def select_query(conn, query):\n",
    "    cursor = conn.cursor()\n",
    "    cursor.execute(query)\n",
    "    result = cursor.fetchall()\n",
    "    return result\n",
    "\n",
    "def insert_query(conn, query, values):\n",
    "    cursor = conn.cursor()\n",
    "    cursor.execute(query, values)\n",
    "    conn.commit()\n",
    "\n",
    "def insert_many_query(conn, query, values):\n",
    "    cursor = conn.cursor()\n",
    "    cursor.executemany(query, values)\n",
    "    conn.commit()\n",
    "\n",
    "def update_query(conn, query, values):\n",
    "    cursor = conn.cursor()\n",
    "    cursor.execute(query, values)\n",
    "    conn.commit()\n",
    "\n",
    "def delete_query(conn, query, values):\n",
    "    cursor = conn.cursor()\n",
    "    cursor.execute(query, values)\n",
    "    conn.commit()\n"
   ]
  },
  {
   "cell_type": "code",
   "execution_count": 4,
   "id": "85b1eef1",
   "metadata": {},
   "outputs": [
    {
     "name": "stdout",
     "output_type": "stream",
     "text": [
      "[]\n"
     ]
    }
   ],
   "source": [
    "conn = connect_to_database(\"root\", \"Mysql@1234\", \"localhost\", \"Assignment\")\n",
    "#select query\n",
    "result = select_query(conn, \"SELECT * FROM employee\")\n",
    "print(result)\n"
   ]
  },
  {
   "cell_type": "code",
   "execution_count": 6,
   "id": "23c768be",
   "metadata": {},
   "outputs": [],
   "source": [
    "#insert query\n",
    "query = \"INSERT INTO employee (empid, First_name, Last_name, Age, Gender, Salary, City, Department) VALUES (%s, %s, %s, %s, %s, %s, %s, %s)\"\n",
    "values = (1, 'Rahul', 'Dravid', 40, 'Male', 60000, 'Bangalore', 'Coach')\n",
    "insert_query(conn, query, values)\n"
   ]
  },
  {
   "cell_type": "code",
   "execution_count": 7,
   "id": "f919dc56",
   "metadata": {},
   "outputs": [
    {
     "name": "stdout",
     "output_type": "stream",
     "text": [
      "[(1, 'Rahul', 'Dravid', 40, 'Male', 60000.0, 'Bangalore', 'Coach')]\n"
     ]
    }
   ],
   "source": [
    "result = select_query(conn, \"SELECT * FROM employee\")\n",
    "print(result)"
   ]
  },
  {
   "cell_type": "code",
   "execution_count": 8,
   "id": "86dce750",
   "metadata": {},
   "outputs": [],
   "source": [
    "#insert many query\n",
    "query = \"INSERT INTO employee (empid, First_name, Last_name, Age, Gender, Salary, City, Department) VALUES (%s, %s, %s, %s, %s, %s, %s, %s)\"\n",
    "values = [(2, 'Sanjay', 'Bangar', 30, 'Male', 50000, 'Ranchi', 'Batting Coach'), (3, 'MS', 'Dhoni', 38, 'Male', 55000, 'Ranchi', 'Captain'), (4, 'Virat', 'Kohli', 34, 'Male', 45000, 'Delhi', 'Batsman')]\n",
    "insert_many_query(conn, query, values)\n"
   ]
  },
  {
   "cell_type": "code",
   "execution_count": 10,
   "id": "8c29f96d",
   "metadata": {},
   "outputs": [
    {
     "name": "stdout",
     "output_type": "stream",
     "text": [
      "[(1, 'Rahul', 'Dravid', 40, 'Male', 60000.0, 'Bangalore', 'Coach'), (2, 'Sanjay', 'Bangar', 30, 'Male', 50000.0, 'Ranchi', 'Batting Coach'), (3, 'MS', 'Dhoni', 38, 'Male', 55000.0, 'Ranchi', 'Captain'), (4, 'Virat', 'Kohli', 34, 'Male', 45000.0, 'Delhi', 'Batsman')]"
     ]
    }
   ],
   "source": [
    "result = select_query(conn, \"SELECT * FROM employee\")\n",
    "print(result)"
   ]
  },
  {
   "cell_type": "code",
   "execution_count": 11,
   "id": "5f5c59dd",
   "metadata": {},
   "outputs": [],
   "source": [
    "#updating list\n",
    "query = \"UPDATE employee SET first_name=%s WHERE empid=%s\"\n",
    "values = ('M S', 3)\n",
    "update_query(conn, query, values)\n"
   ]
  },
  {
   "cell_type": "code",
   "execution_count": 12,
   "id": "d62dffa2",
   "metadata": {},
   "outputs": [
    {
     "name": "stdout",
     "output_type": "stream",
     "text": [
      "[(1, 'Rahul', 'Dravid', 40, 'Male', 60000.0, 'Bangalore', 'Coach'), (2, 'Sanjay', 'Bangar', 30, 'Male', 50000.0, 'Ranchi', 'Batting Coach'), (3, 'M S', 'Dhoni', 38, 'Male', 55000.0, 'Ranchi', 'Captain'), (4, 'Virat', 'Kohli', 34, 'Male', 45000.0, 'Delhi', 'Batsman')]\n"
     ]
    }
   ],
   "source": [
    "result = select_query(conn, \"SELECT * FROM employee\")\n",
    "print(result)"
   ]
  },
  {
   "cell_type": "code",
   "execution_count": 13,
   "id": "c19e7331",
   "metadata": {},
   "outputs": [],
   "source": [
    "#deletion of record based on emp id\n",
    "query = \"DELETE FROM employee WHERE empid=%s\"\n",
    "values = (2,)\n",
    "delete_query(conn, query, values)\n"
   ]
  },
  {
   "cell_type": "code",
   "execution_count": 14,
   "id": "d193f16f",
   "metadata": {},
   "outputs": [
    {
     "name": "stdout",
     "output_type": "stream",
     "text": [
      "[(1, 'Rahul', 'Dravid', 40, 'Male', 60000.0, 'Bangalore', 'Coach'), (3, 'M S', 'Dhoni', 38, 'Male', 55000.0, 'Ranchi', 'Captain'), (4, 'Virat', 'Kohli', 34, 'Male', 45000.0, 'Delhi', 'Batsman')]\n"
     ]
    }
   ],
   "source": [
    "result = select_query(conn, \"SELECT * FROM employee\")\n",
    "print(result)"
   ]
  },
  {
   "cell_type": "code",
   "execution_count": null,
   "id": "6eec568c",
   "metadata": {},
   "outputs": [],
   "source": []
  }
 ],
 "metadata": {
  "kernelspec": {
   "display_name": "Python 3 (ipykernel)",
   "language": "python",
   "name": "python3"
  },
  "language_info": {
   "codemirror_mode": {
    "name": "ipython",
    "version": 3
   },
   "file_extension": ".py",
   "mimetype": "text/x-python",
   "name": "python",
   "nbconvert_exporter": "python",
   "pygments_lexer": "ipython3",
   "version": "3.9.13"
  }
 },
 "nbformat": 4,
 "nbformat_minor": 5
}
