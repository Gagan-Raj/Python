{
 "cells": [
  {
   "cell_type": "markdown",
   "id": "5fad3b2a",
   "metadata": {
    "id": "5fad3b2a"
   },
   "source": [
    "# Assessment - 2 Gradable\n",
    "\n",
    "- Each question carries 3 marks\n",
    "- Marks will be assigned in terms of:\n",
    "    \n",
    "    **1. Expected output**\n",
    "    \n",
    "    **2. Quality and Explainability of code**\n",
    "\n",
    "    ***Go back through the script and type a comment above each line explaining in English what it does.***\n",
    "\n",
    "    **3. Copied code, if found, will result in 0 marks for that question. To avoid this make as much comments in the code to explain the approach**"
   ]
  },
  {
   "cell_type": "markdown",
   "id": "03363a58",
   "metadata": {
    "id": "03363a58"
   },
   "source": [
    "### 1.\n",
    "\n",
    "Write a Python program to get a list, sorted in increasing order by the last element in each tuple from a given list of non-empty tuples.\n",
    "\n",
    "Sample List : [(2, 5), (1, 2), (4, 4), (2, 3), (2, 1)]\n",
    "Expected Result : [(2, 1), (1, 2), (2, 3), (4, 4), (2, 5)]"
   ]
  },
  {
   "cell_type": "code",
   "execution_count": 20,
   "id": "73d7418b",
   "metadata": {
    "id": "73d7418b"
   },
   "outputs": [
    {
     "name": "stdout",
     "output_type": "stream",
     "text": [
      "[(2, 1), (1, 2), (2, 3), (4, 4), (2, 5)]\n"
     ]
    }
   ],
   "source": [
    "list_1 = [(2, 5), (1, 2), (4, 4), (2, 3), (2, 1)]   #input sample list is given\n",
    "\n",
    "list_2 = [(swap[1], swap[0]) for swap in list_1]    #swapping second element with first element inside tuple list\n",
    "\n",
    "sorting = sorted(list_2)                            #using SORTED function, we sort the tuple list based on first element\n",
    "\n",
    "list_3 = [(swap[1], swap[0]) for swap in sorting]   #swapping again the second element with first element, to make it original tuple list\n",
    "\n",
    "print(list_3)                                       #printing the final tuple list, after sorting in increasing order based on last element\n",
    "\n",
    "\n",
    "\n"
   ]
  },
  {
   "cell_type": "markdown",
   "id": "3d5efe73",
   "metadata": {
    "id": "3d5efe73"
   },
   "source": [
    "### 2. \n",
    "\n",
    "Grab ``StarAgile`` from the following Dictionaries\n",
    "\n",
    "d_difficult = {'k1':[{'nest_key':['this is deep',['StarAgile']]}]}\n",
    "\n",
    "d_irritating = {'k1':[1,2,{'k2':['this is not easy',{'VeryIrriating':[1,2,['StarAgile']]}]}]}"
   ]
  },
  {
   "cell_type": "code",
   "execution_count": 11,
   "id": "9fb35ce9",
   "metadata": {
    "id": "9fb35ce9"
   },
   "outputs": [
    {
     "name": "stdout",
     "output_type": "stream",
     "text": [
      "StarAgile\n",
      "\n",
      "StarAgile\n"
     ]
    }
   ],
   "source": [
    "# We have to get just StarAgile as output from above mentioned two different dictionaries\n",
    "\n",
    "##first Dictionary\n",
    "\n",
    "d_difficult = {'k1':[{'nest_key':['this is deep',['StarAgile']]}]}\n",
    "\n",
    "Values = d_difficult.get('k1') #getting the value for key\n",
    "\n",
    "list_1 = Values[0]['nest_key'] #since it becomes a list, we have to give index number, to access a dictionary inside list\n",
    "\n",
    "list_2 = list_1[1][0]          #req. element is in second index of the above list and exact item inside the list is also accessed\n",
    "\n",
    "print(list_2)\n",
    "\n",
    "\n",
    "print()\n",
    "\n",
    "##second Dictionary\n",
    "\n",
    "d_irritating = {'k1':[1,2,{'k2':['this is not easy',{'VeryIrriating':[1,2,['StarAgile']]}]}]}\n",
    "\n",
    "first_step = d_irritating.get('k1')\n",
    "\n",
    "list_11 = first_step[2]['k2']\n",
    "\n",
    "list_22 = list_11[1]['VeryIrriating']\n",
    "\n",
    "list_33 = list_22[2][0]\n",
    "\n",
    "print (list_33)\n"
   ]
  },
  {
   "cell_type": "markdown",
   "id": "0540a188",
   "metadata": {
    "id": "0540a188"
   },
   "source": [
    "### 3. \n",
    "\n",
    "Write a program to accept a string from the user and display characters that are present at an even index number.\n",
    "\n",
    "For example, str = \"judgemental\" so you should display ‘j’, ‘d’, ‘e’, ‘e’, ‘t’, ‘l’."
   ]
  },
  {
   "cell_type": "code",
   "execution_count": 12,
   "id": "21f5b9dd",
   "metadata": {
    "id": "21f5b9dd"
   },
   "outputs": [
    {
     "name": "stdout",
     "output_type": "stream",
     "text": [
      "Enter the string value : judgemental\n",
      "'j', 'd', 'e', 'e', 't', 'l', "
     ]
    }
   ],
   "source": [
    "input_string = input('Enter the string value : ')           #input the string value here \n",
    "\n",
    "\n",
    "for item in range(0,len(input_string),2) :                  #using for loop to get the values in range and it is evenly skipping\n",
    "    \n",
    "    print(\"'{}'\".format(input_string[item]), end = \", \")  #printing using the format statement to place the values in placeholder and inverted commas\n",
    "    \n",
    "    \n",
    "    \n",
    "    "
   ]
  },
  {
   "cell_type": "markdown",
   "id": "e0884cde",
   "metadata": {
    "id": "e0884cde"
   },
   "source": [
    "### 4. \n",
    "\n",
    "Convert the Float Value of '3.8' into Integer, Complex, Binary and Hexidecimal format"
   ]
  },
  {
   "cell_type": "code",
   "execution_count": 15,
   "id": "99555c16",
   "metadata": {
    "id": "99555c16"
   },
   "outputs": [
    {
     "name": "stdout",
     "output_type": "stream",
     "text": [
      "Integer value of a given number is :  3\n",
      "\n",
      "Complex value of a given number is :  (3.8+0j)\n",
      "\n",
      "Binary value of a given number is :  0b11\n",
      "\n",
      "Hexadecimal value of a given number is :  0x3\n"
     ]
    }
   ],
   "source": [
    "float_1 = 3.8\n",
    "\n",
    "integer = int(float_1)                        #to convert float number to integer number, use INT function\n",
    "\n",
    "print('Integer value of a given number is : ', integer)\n",
    "\n",
    "print()\n",
    "\n",
    "#to complex\n",
    "\n",
    "complex_1 = complex(float_1)                  #to convert float number to complex number, use COMPLEX fucntion\n",
    "\n",
    "print('Complex value of a given number is : ', complex_1)\n",
    "\n",
    "print()\n",
    "\n",
    "#to Binary\n",
    "\n",
    "binary = bin(integer)                         #to convert float to binary number is not possible, so we will convert integer to binary\n",
    "\n",
    "print('Binary value of a given number is : ', binary)\n",
    "\n",
    "print()\n",
    "\n",
    "#to hexa decimal format\n",
    "\n",
    "hexadec = hex(integer)                        #to convert hexadecimal format, we use integer.\n",
    "\n",
    "print('Hexadecimal value of a given number is : ', hexadec)\n"
   ]
  },
  {
   "cell_type": "markdown",
   "id": "25187f2c",
   "metadata": {
    "id": "25187f2c"
   },
   "source": [
    "5.  \n",
    "Write a program to accept five names from the user and store it in a Tuple 'T1'"
   ]
  },
  {
   "cell_type": "code",
   "execution_count": 16,
   "id": "7e9e98e3",
   "metadata": {
    "id": "7e9e98e3"
   },
   "outputs": [
    {
     "name": "stdout",
     "output_type": "stream",
     "text": [
      "Enter the five names here : ram, rajesh, rakesh, ramesh, ravi\n",
      "Values Stored in tuple T1 are :  ('ram', 'rajesh', 'rakesh', 'ramesh', 'ravi')\n"
     ]
    }
   ],
   "source": [
    "x = input('Enter the five names here : ')      #input the strings here with comma separating, which are five names\n",
    "\n",
    "splitting = x.split(', ')                      #we use split function based on comma, so it splits and makes them into list\n",
    "\n",
    "T1 = tuple(splitting)                          #converting the list to tuple, by using tuple() function\n",
    "\n",
    "print(\"Values Stored in tuple T1 are : \", T1)         #printing the variable T1\n",
    "\n"
   ]
  },
  {
   "cell_type": "code",
   "execution_count": null,
   "id": "9e19ff27",
   "metadata": {},
   "outputs": [],
   "source": []
  }
 ],
 "metadata": {
  "colab": {
   "provenance": []
  },
  "kernelspec": {
   "display_name": "Python 3 (ipykernel)",
   "language": "python",
   "name": "python3"
  },
  "language_info": {
   "codemirror_mode": {
    "name": "ipython",
    "version": 3
   },
   "file_extension": ".py",
   "mimetype": "text/x-python",
   "name": "python",
   "nbconvert_exporter": "python",
   "pygments_lexer": "ipython3",
   "version": "3.9.13"
  }
 },
 "nbformat": 4,
 "nbformat_minor": 5
}
