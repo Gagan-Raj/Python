{
  "cells": [
    {
      "cell_type": "markdown",
      "id": "fd8a397e",
      "metadata": {
        "id": "fd8a397e"
      },
      "source": [
        "# Assessment - 1 Gradable\n",
        "\n",
        "- Each question carries 2 marks\n",
        "- Marks will be assigned in terms of:\n",
        "    \n",
        "    **1. Expected output**\n",
        "    \n",
        "    **2. Quality and Explainability of code**\n",
        "\n",
        "    ***Go back through the script and type a comment above each line explaining in English what it does.***\n",
        "\n",
        "    **3. Copied code, if found, will result in 0 marks for that question. To avoid this make as much comments in the code to explain the approach**"
      ]
    },
    {
      "cell_type": "markdown",
      "id": "b71e4d6e",
      "metadata": {
        "id": "b71e4d6e"
      },
      "source": [
        "### 1.\n",
        "\n",
        "Write a program to Find the Factorial of a given input Number"
      ]
    },
    {
      "cell_type": "code",
      "execution_count": null,
      "id": "5fdfd2dd",
      "metadata": {
        "id": "5fdfd2dd",
        "colab": {
          "base_uri": "https://localhost:8080/"
        },
        "outputId": "985f4863-9492-4d22-ea1b-691749d8e9af"
      },
      "outputs": [
        {
          "output_type": "stream",
          "name": "stdout",
          "text": [
            "Enter the Number : 4\n",
            "Factorial of a given Number is :  1\n",
            "Factorial of a given Number is :  2\n",
            "Factorial of a given Number is :  6\n",
            "Factorial of a given Number is :  24\n"
          ]
        }
      ],
      "source": [
        "\n",
        "\n",
        "x = int(input('Enter the Number : '))              #to enter the value and it has to be a integer and assigning it to a variable\n",
        "\n",
        "\n",
        "if x == 0 or x == 1:                               #considering possibilities of 0 or 1\n",
        "  print(' Factorial of Given Number is 1')         # for printing the value\n",
        "\n",
        "\n",
        "elif x>0:                                          #for all positive integers\n",
        "  y = 1                                            #defining a local variable\n",
        "  for n in range(1,x+1):                           #range has to be given from which the number is to be taken\n",
        "    y = y*n                                        # logic for calculating the factorial, it will increase and move to next integer in the loop, till it completes the given range.\n",
        "    print('Factorial of a given Number is : ', y)  #printing the value and the output is the declared local variable \n",
        "\n",
        "else:                                              #if variable equals a negative integer, it is an error, as factorial does not exist for negative integer.\n",
        "  print('Error')\n",
        "\n",
        "\n",
        "\n",
        "\n",
        "\n",
        "\n",
        "\n"
      ]
    },
    {
      "cell_type": "markdown",
      "id": "19219461",
      "metadata": {
        "id": "19219461"
      },
      "source": [
        "### 2. \n",
        "\n",
        "Write a program to check if the given year is a Leap Year or not"
      ]
    },
    {
      "cell_type": "code",
      "execution_count": null,
      "id": "ea1f3f35",
      "metadata": {
        "id": "ea1f3f35",
        "colab": {
          "base_uri": "https://localhost:8080/"
        },
        "outputId": "595f2501-23eb-4613-e1d5-1b2fe0931d86"
      },
      "outputs": [
        {
          "output_type": "stream",
          "name": "stdout",
          "text": [
            " Enter the year : 1900\n",
            "Given year 1900 is not a leap year\n"
          ]
        }
      ],
      "source": [
        "#to check if its a leap year or not\n",
        "\n",
        "year = int(input(' Enter the year : '))                    #to input the year and int() is added to convert the string to integer                                           #for variable y is assigned to x modulus 4, because leap year happens every 4 years.\n",
        "\n",
        "if year % 4 == 0 and year % 100 != 0 :                     #if the variabe year satisfies the condition, then it is a leap year\n",
        "  print('Given year', year , 'is a leap year')             #print the given statement\n",
        "\n",
        "elif year % 400 == 0 and year % 100 == 0 :\n",
        "  print('Given year', year , 'is a leap year')\n",
        "else :                                                     #if variable fails to satisfy above logic, then it is not a leap year\n",
        "  print('Given year', year, 'is not a leap year')"
      ]
    },
    {
      "cell_type": "markdown",
      "id": "58bb969b",
      "metadata": {
        "id": "58bb969b"
      },
      "source": [
        "### 3.\n",
        "\n",
        "Write a program to convert from Celsius To Fahrenheit"
      ]
    },
    {
      "cell_type": "code",
      "execution_count": null,
      "id": "d09b33c6",
      "metadata": {
        "id": "d09b33c6",
        "colab": {
          "base_uri": "https://localhost:8080/"
        },
        "outputId": "1c07de7e-cadb-4f34-bb49-f6bad15863c8"
      },
      "outputs": [
        {
          "output_type": "stream",
          "name": "stdout",
          "text": [
            "Enter the degree celsius : 98.3\n",
            "Fahreheit Temperature is :  208.94\n"
          ]
        }
      ],
      "source": [
        "# to convert from celsius to fahrenheit\n",
        "# multiply by (9/5) and add 32\n",
        "\n",
        "x = float(input('Enter the degree celsius : '))        #assigning variable x for input value. To convert the degree value to exact decimal value, float is used.\n",
        "y = (x*(9/5))+32                                       #to convert degree to fahrenheit, we have to multiply celsius with 9/5 and add 32\n",
        "\n",
        "print('Fahreheit Temperature is : ', y)                #printing the statement given"
      ]
    },
    {
      "cell_type": "markdown",
      "id": "8658a415",
      "metadata": {
        "id": "8658a415"
      },
      "source": [
        "### 4.\n",
        "\n",
        "Write a program to check if the given number is a palindrome number.\n",
        "\n",
        "A palindrome number is a number that is same after reverse. For example, 121 is a palindrome number."
      ]
    },
    {
      "cell_type": "code",
      "execution_count": null,
      "id": "a0974be7",
      "metadata": {
        "id": "a0974be7",
        "colab": {
          "base_uri": "https://localhost:8080/"
        },
        "outputId": "258d0c68-2456-42df-e48f-c1e0f830d02e"
      },
      "outputs": [
        {
          "output_type": "stream",
          "name": "stdout",
          "text": [
            "Enter the Number : 1661\n",
            "Given Number is Palindrome\n"
          ]
        }
      ],
      "source": [
        "#to check number is palindrome or not\n",
        "\n",
        "x = input('Enter the Number : ')                        #assigning the input value to variable x. x would be a string\n",
        "y = (x[::-1])                                           #here string slicing is being used and -1 at the double column indicates, to write the entire string in reverse\n",
        "\n",
        "x = int(x)                                              #here both the variables are being converted to integer\n",
        "y = int(y)\n",
        "\n",
        "if y == x :                                             #if both variables are same while comparing, then number is a palindrome number\n",
        "  print(\"Given Number is Palindrome\")\n",
        "\n",
        "else :                                                  #if both varibales are not same, then number is nit a palindrome number\n",
        "  print(\"Given Number is not palindrome\")\n",
        "\n"
      ]
    },
    {
      "cell_type": "markdown",
      "id": "0b487dc1",
      "metadata": {
        "id": "0b487dc1"
      },
      "source": [
        "### 5. \n",
        "\n",
        "Write a program to Generate a Random Number from 1 to 100 and check if it's even or odd number"
      ]
    },
    {
      "cell_type": "code",
      "execution_count": null,
      "id": "32d2205e",
      "metadata": {
        "id": "32d2205e",
        "colab": {
          "base_uri": "https://localhost:8080/"
        },
        "outputId": "0f928d37-2190-41af-f18d-0467d7b0d81b"
      },
      "outputs": [
        {
          "output_type": "stream",
          "name": "stdout",
          "text": [
            "65 is the generated random number and it is odd number\n"
          ]
        }
      ],
      "source": [
        "import random                                                                  #to import random number, we are calling random fucntion\n",
        "\n",
        "x = random.randint(1,100)                                                      #randint() function can be used to generate a random number between 1 and 100\n",
        "\n",
        "if x % 2 == 0 :                                                                #if x modulus 2 equals to 0, then it is a even number\n",
        "  print(x , 'is the generated random number', 'and it is even number')         #printing the statement\n",
        "\n",
        "else :                                                                         #if x modulus 2 not equals to 0, then it is a odd number\n",
        "  print(x , 'is the generated random number', 'and it is odd number')\n",
        "\n"
      ]
    }
  ],
  "metadata": {
    "kernelspec": {
      "display_name": "Python 3 (ipykernel)",
      "language": "python",
      "name": "python3"
    },
    "language_info": {
      "codemirror_mode": {
        "name": "ipython",
        "version": 3
      },
      "file_extension": ".py",
      "mimetype": "text/x-python",
      "name": "python",
      "nbconvert_exporter": "python",
      "pygments_lexer": "ipython3",
      "version": "3.9.12"
    },
    "colab": {
      "provenance": []
    }
  },
  "nbformat": 4,
  "nbformat_minor": 5
}