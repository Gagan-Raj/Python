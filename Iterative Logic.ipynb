{
 "cells": [
  {
   "cell_type": "markdown",
   "id": "9acd52dd",
   "metadata": {
    "id": "9acd52dd"
   },
   "source": [
    "# Assessment - 4 Gradable\n",
    "\n",
    "- Each question carries 5 marks\n",
    "- Marks will be assigned in terms of:\n",
    "    \n",
    "    **1. Expected output**\n",
    "    \n",
    "    **2. Quality and Explainability of code**\n",
    "\n",
    "    ***Go back through the script and type a comment above each line explaining in English what it does.***\n",
    "\n",
    "    **3. Copied code, if found, will result in 0 marks for that question. To avoid this make as much comments in the code to explain the approach**"
   ]
  },
  {
   "cell_type": "markdown",
   "id": "1dd6b730",
   "metadata": {
    "id": "1dd6b730"
   },
   "source": [
    "### 1. \n",
    "\n",
    "Write a function ``clap_tap`` that prints the integers from 1 to 100. But for multiples of three print \"Clap\" instead of the number, and for the multiples of five print \"Tap\". For numbers which are multiples of both three and five print \"ClapTap\"."
   ]
  },
  {
   "cell_type": "code",
   "execution_count": 5,
   "id": "04ae6248",
   "metadata": {
    "id": "04ae6248"
   },
   "outputs": [],
   "source": [
    "#defining a function, using def\n",
    "def clap_tap():\n",
    "    \n",
    "    #using for loop, and using a variable i, to go through the range\n",
    "    for i in range(1,101):\n",
    "        \n",
    "        #using if-elif-elif-else condition, as per question, multiples of 3 and 5, print ClapTap\n",
    "        if i%3==0 and i%5 == 0:\n",
    "            print('ClapTap', end=' ')\n",
    "        \n",
    "        #multiples of 3, print Clap\n",
    "        elif i%3== 0:\n",
    "            print('Clap', end=' ')\n",
    "        \n",
    "        #multiples of 5, print Tap\n",
    "        elif i%5 == 0:\n",
    "            print('Tap', end=' ')\n",
    "            \n",
    "        #if the above conditions doesnt apply to few numbers, print the number as it is\n",
    "        else :\n",
    "            print(i, end=' ')\n",
    "            \n",
    "    \n",
    "\n"
   ]
  },
  {
   "cell_type": "code",
   "execution_count": 6,
   "id": "8e53de84",
   "metadata": {},
   "outputs": [
    {
     "name": "stdout",
     "output_type": "stream",
     "text": [
      "1 2 Clap 4 Tap Clap 7 8 Clap Tap 11 Clap 13 14 ClapTap 16 17 Clap 19 Tap Clap 22 23 Clap Tap 26 Clap 28 29 ClapTap 31 32 Clap 34 Tap Clap 37 38 Clap Tap 41 Clap 43 44 ClapTap 46 47 Clap 49 Tap Clap 52 53 Clap Tap 56 Clap 58 59 ClapTap 61 62 Clap 64 Tap Clap 67 68 Clap Tap 71 Clap 73 74 ClapTap 76 77 Clap 79 Tap Clap 82 83 Clap Tap 86 Clap 88 89 ClapTap 91 92 Clap 94 Tap Clap 97 98 Clap Tap "
     ]
    }
   ],
   "source": [
    "clap_tap()"
   ]
  },
  {
   "cell_type": "markdown",
   "id": "ffc26930",
   "metadata": {
    "id": "ffc26930"
   },
   "source": [
    "### 2. \n",
    "\n",
    "ANIMAL CRACKERS: Write a function takes a two-word string and returns True if both words begin with same letter and returns False if both words begin with different letter\n",
    "- animal_crackers('Levelheaded Lion') --> True\n",
    "- animal_crackers('Cute Kangaroo') --> False"
   ]
  },
  {
   "cell_type": "code",
   "execution_count": 85,
   "id": "dbaf2f2a",
   "metadata": {
    "id": "dbaf2f2a"
   },
   "outputs": [],
   "source": [
    "#defining a function, using def\n",
    "def animal_crackers(x) :\n",
    "    \n",
    "    #splitting the string and assigning two strings to individual variables\n",
    "    string1,string2 = x.split() \n",
    "    \n",
    "    #print the statement, assigning the strings clearly, this is for reference\n",
    "    print('String1 : {}, String2 : {}'.format(string1,string2))\n",
    "    \n",
    "    #using if statement, we will make the strings to upper, to make it an equal comparision\n",
    "    if (string1[0].upper()) == (string2[0].upper()):\n",
    "        \n",
    "        #return True, if above conditions match\n",
    "        return True\n",
    "    \n",
    "    #else return False\n",
    "    return False"
   ]
  },
  {
   "cell_type": "code",
   "execution_count": 86,
   "id": "5153156b",
   "metadata": {},
   "outputs": [
    {
     "name": "stdout",
     "output_type": "stream",
     "text": [
      "String1 : Levelheaded, String2 : lion\n"
     ]
    },
    {
     "data": {
      "text/plain": [
       "True"
      ]
     },
     "execution_count": 86,
     "metadata": {},
     "output_type": "execute_result"
    }
   ],
   "source": [
    "animal_crackers('Levelheaded lion')"
   ]
  },
  {
   "cell_type": "markdown",
   "id": "eec7fc6c",
   "metadata": {
    "id": "eec7fc6c"
   },
   "source": [
    "### 3. \n",
    "\n",
    "Create a function ``shout_out`` Given a string, return a string where:\n",
    "#### for every character in the original there are three characters\n",
    "\n",
    "    - shout_out('character') --> 'ccchhhaaarrraaacccttteeerrr'\n",
    "    - shout_out('original') --> 'ooorrriiigggiiinnnaaalll'"
   ]
  },
  {
   "cell_type": "code",
   "execution_count": 89,
   "id": "4de40729",
   "metadata": {
    "id": "4de40729"
   },
   "outputs": [],
   "source": [
    "#defining a function, using def\n",
    "def shout_out(x) :\n",
    "    \n",
    "    #using for loop, we will define the range\n",
    "    for i in range(0,len(x)):\n",
    "        \n",
    "        #the below logic, multiplies each word 3 times and prints it\n",
    "        print((x[i]*3), end='')\n",
    "        \n",
    "        #this is used to increase the value of element by 1, every time it completes the loop\n",
    "        i += 1\n",
    "    "
   ]
  },
  {
   "cell_type": "code",
   "execution_count": 92,
   "id": "b9cbeb81",
   "metadata": {},
   "outputs": [
    {
     "name": "stdout",
     "output_type": "stream",
     "text": [
      "ccchhhaaarrraaacccttteeerrr"
     ]
    }
   ],
   "source": [
    "shout_out(\"character\")"
   ]
  },
  {
   "cell_type": "markdown",
   "id": "6739aeef",
   "metadata": {
    "id": "6739aeef"
   },
   "source": [
    "### 4. \n",
    "\n",
    "Create a function ``ignore_6_to_9`` that returns the sum of the numbers in the array, except ignore sections of numbers starting with a 6 and extending to the next 9 (every 6 will be followed by at least one 9). Return 0 for no numbers.\n",
    " \n",
    "- ignore_6_to_9([1, 3, 5]) --> 9\n",
    "- ignore_6_to_9([4, 5, 6, 7, 8, 9]) --> 9\n",
    "- ignore_6_to_9([2, 1, 6, 9, 11]) --> 14"
   ]
  },
  {
   "cell_type": "code",
   "execution_count": 114,
   "id": "1ec4e63e",
   "metadata": {
    "id": "1ec4e63e"
   },
   "outputs": [],
   "source": [
    "#defining a function using def\n",
    "def ignore_6_to_9(x):\n",
    "    \n",
    "    #we creat a global empty variable\n",
    "    sum_1 = 0\n",
    "    \n",
    "    #assigning a boolean True to a variable\n",
    "    addition = True\n",
    "    \n",
    "    #using for loop,to iterate through every item\n",
    "    for i in x:\n",
    "        \n",
    "        #if number is 6, we make the addition variable to Boolean false, it wont execute the code\n",
    "        if i == 6:\n",
    "            \n",
    "            addition = False\n",
    "            \n",
    "         #if number is 9, we make the addition variable to Boolean True, it will continue to execute the code   \n",
    "        elif i == 9:\n",
    "            \n",
    "            addition = True\n",
    "        \n",
    "        #if number is not, 6 or 9, continue to execute the code\n",
    "        elif addition is True :\n",
    "            \n",
    "            #the number is added to existing sum variable which was created at start\n",
    "            sum_1 = sum_1 + i\n",
    "    \n",
    "    #returning the total sum\n",
    "    return sum_1\n",
    "        \n",
    "\n",
    "        \n"
   ]
  },
  {
   "cell_type": "code",
   "execution_count": 117,
   "id": "af47d83e",
   "metadata": {},
   "outputs": [
    {
     "data": {
      "text/plain": [
       "9"
      ]
     },
     "execution_count": 117,
     "metadata": {},
     "output_type": "execute_result"
    }
   ],
   "source": [
    "ignore_6_to_9([1,3,4,6,7,9,1])"
   ]
  },
  {
   "cell_type": "markdown",
   "id": "af46e819",
   "metadata": {
    "id": "af46e819"
   },
   "source": [
    "### 5.\n",
    "\n",
    "Write a program to iterate the first 10 numbers and in each iteration, print the sum of the current and previous number.\n",
    "\n",
    "- Current Number 0 Previous Number  0  Sum:  0\n",
    "- Current Number 1 Previous Number  0  Sum:  1 and so on"
   ]
  },
  {
   "cell_type": "code",
   "execution_count": 68,
   "id": "830a0664",
   "metadata": {
    "id": "830a0664"
   },
   "outputs": [
    {
     "name": "stdout",
     "output_type": "stream",
     "text": [
      "Current_Number 0 Previous Number 0 Sum: 0 \n",
      "Current_Number 1 Previous Number 0 Sum: 1 \n",
      "Current_Number 2 Previous Number 1 Sum: 3 \n",
      "Current_Number 3 Previous Number 2 Sum: 5 \n",
      "Current_Number 4 Previous Number 3 Sum: 7 \n",
      "Current_Number 5 Previous Number 4 Sum: 9 \n",
      "Current_Number 6 Previous Number 5 Sum: 11 \n",
      "Current_Number 7 Previous Number 6 Sum: 13 \n",
      "Current_Number 8 Previous Number 7 Sum: 15 \n",
      "Current_Number 9 Previous Number 8 Sum: 17 \n",
      "Current_Number 10 Previous Number 9 Sum: 19 \n"
     ]
    }
   ],
   "source": [
    "#defining a range\n",
    "x = range(0,11)\n",
    "\n",
    "#using for loop to iterate through each element\n",
    "for i in x:\n",
    "    \n",
    "    #using if-else condtion, if i is greater than 0, then it has to go for this logic\n",
    "    if i>0 :\n",
    "\n",
    "        #assigning a variable to the current number\n",
    "        Current_Number = x[i]\n",
    "        \n",
    "        #assigning a variable to previous number\n",
    "        Previous_Number = x[i-1]\n",
    "        \n",
    "        #sum is the addition of both the above varibles\n",
    "        Sum = Current_Number + Previous_Number\n",
    "    \n",
    "    #if i is less than 1, that is 0, then there is no previous number, the previous number, equals current number, which is 0\n",
    "    else:\n",
    "    \n",
    "        Current_Number = x[i]\n",
    "    \n",
    "        Previous_Number = x[i]\n",
    "    \n",
    "        Sum = Current_Number + Previous_Number\n",
    "    \n",
    "    #printing the statement in required format\n",
    "    print('Current_Number {} Previous Number {} Sum: {} '.format(Current_Number, Previous_Number, Sum))\n",
    "    \n",
    "    "
   ]
  },
  {
   "cell_type": "code",
   "execution_count": null,
   "id": "59e1a0f0",
   "metadata": {},
   "outputs": [],
   "source": []
  }
 ],
 "metadata": {
  "colab": {
   "provenance": []
  },
  "kernelspec": {
   "display_name": "Python 3 (ipykernel)",
   "language": "python",
   "name": "python3"
  },
  "language_info": {
   "codemirror_mode": {
    "name": "ipython",
    "version": 3
   },
   "file_extension": ".py",
   "mimetype": "text/x-python",
   "name": "python",
   "nbconvert_exporter": "python",
   "pygments_lexer": "ipython3",
   "version": "3.9.13"
  }
 },
 "nbformat": 4,
 "nbformat_minor": 5
}
